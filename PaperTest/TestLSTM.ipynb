{
 "cells": [
  {
   "cell_type": "markdown",
   "metadata": {
    "id": "IAIWlmhag16M"
   },
   "source": [
    "## IMPORT LIBRARIES\n"
   ]
  },
  {
   "cell_type": "markdown",
   "metadata": {
    "id": "1ubwc-5-ycEx"
   },
   "source": [
    "#LSTM Practice Implementation\n",
    "\n",
    "this model does the following:\n",
    "\n",
    "\n",
    "*   Takes in historical OHLC data for a given stock (APPL in this case)  from 2010-01-01 to 2024-01-01\n",
    "*   Preprocesses the stock prices by normalizing them and generating a simple moving average\n",
    "*   Creates a 30 day sequence of data as input to predict the next day\n",
    "*   Trains on the historical data from polygon.io\n",
    "*   Predicts and generates buy/sell signals and expected returns based on a computed threshold\n",
    "\n",
    "\n",
    "\n",
    "\n",
    "\n"
   ]
  },
  {
   "cell_type": "code",
   "execution_count": 1,
   "metadata": {
    "id": "jRCacsr1g0wY"
   },
   "outputs": [],
   "source": [
    "import requests\n",
    "import pandas as pd\n",
    "import numpy as np\n",
    "import datetime\n",
    "import time\n",
    "\n",
    "API_KEY='q6YjvzTWAp_OkhFvfxwfgrtIVOpddl_V'\n",
    "BASE_URL='https:/api.polygon.io'\n"
   ]
  },
  {
   "cell_type": "markdown",
   "metadata": {
    "id": "JXcmitpXpY_e"
   },
   "source": [
    "##IMPORT HISTORICAL DATA"
   ]
  },
  {
   "cell_type": "code",
   "execution_count": 2,
   "metadata": {
    "colab": {
     "base_uri": "https://localhost:8080/"
    },
    "id": "mzecSyhgjiPZ",
    "outputId": "963b3672-5864-4e38-9ad4-a8d5111cbdc6"
   },
   "outputs": [
    {
     "name": "stdout",
     "output_type": "stream",
     "text": [
      "fetched data for AAPL\n",
      "fetched data for AMZN\n",
      "fetched data for GOOGL\n",
      "fetched data for MSFT\n",
      "                                  o       h         l       c           v\n",
      "Ticker Date                                                              \n",
      "AAPL   2022-11-15 05:00:00  152.215  153.59  148.5613  150.04  89868332.0\n",
      "       2022-11-16 05:00:00  149.130  149.87  147.2900  148.79  64218266.0\n",
      "       2022-11-17 05:00:00  146.430  151.48  146.1500  150.72  80389400.0\n",
      "       2022-11-18 05:00:00  152.305  152.70  149.9700  151.29  74829573.0\n",
      "       2022-11-21 05:00:00  150.160  150.37  147.7150  148.01  58724070.0\n"
     ]
    }
   ],
   "source": [
    "def get_historical_stock_data(ticker, start_date, end_date):\n",
    "    url = f\" https://api.polygon.io/v2/aggs/ticker/{ticker}/range/1/day/2010-01-01/2024-01-01?adjusted=true&sort=asc&limit=5000&apiKey=q6YjvzTWAp_OkhFvfxwfgrtIVOpddl_V\"\n",
    "    try:\n",
    "        response = requests.get(url)\n",
    "        response.raise_for_status()  # Raise an error for non-200 status codes\n",
    "\n",
    "        # Check if response is valid JSON\n",
    "        data = response.json()\n",
    "\n",
    "        # Check if 'results' is in the response (indicates data is present)\n",
    "        if 'results' in data and data['results']:\n",
    "            df = pd.DataFrame(data['results'])\n",
    "            df['t'] = pd.to_datetime(df['t'], unit='ms')  # Convert timestamp to date\n",
    "            df.set_index('t', inplace=True)\n",
    "            return df[['o', 'h', 'l', 'c', 'v']]  # Keep OHLC and volume columns\n",
    "        else:\n",
    "            print(f\"No data available for {ticker} in the specified date range.\")\n",
    "            return pd.DataFrame()  # Return an empty DataFrame if no data\n",
    "\n",
    "    except requests.exceptions.RequestException as e:\n",
    "        print(f\"Error fetching data for {ticker}: {e}\")\n",
    "        return pd.DataFrame()\n",
    "    except ValueError as e:\n",
    "        print(f\"JSON decode error for {ticker}: {e}\")\n",
    "        return pd.DataFrame()\n",
    "\n",
    "tickers = ['AAPL', 'AMZN', 'GOOGL', 'MSFT']\n",
    "\n",
    "def get_data_for_multiple_tickers(tickers, start_date, end_date):\n",
    "  all_data = {}\n",
    "  for ticker in tickers:\n",
    "    data = get_historical_stock_data(ticker, start_date, end_date)\n",
    "    print(f\"fetched data for {ticker}\")\n",
    "    time.sleep(1)\n",
    "    if data is not None:\n",
    "      all_data[ticker] = data\n",
    "  return all_data\n",
    "\n",
    "\n",
    "\n",
    "#example test of getting stock data\n",
    "start_date = '2010-01-01'\n",
    "end_date = '2024-01-01'\n",
    "data = get_data_for_multiple_tickers(tickers, start_date, end_date)\n",
    "\n",
    "combined_data = pd.concat(data.values(), keys=data.keys(), names=['Ticker', 'Date'])\n",
    "print(combined_data.head())"
   ]
  },
  {
   "cell_type": "markdown",
   "metadata": {
    "id": "KjIWnAH9ptq4"
   },
   "source": [
    "##PREPROCESS DATA\n",
    "###normalize stock prices and generate a simple moving average"
   ]
  },
  {
   "cell_type": "code",
   "execution_count": 4,
   "metadata": {
    "colab": {
     "base_uri": "https://localhost:8080/"
    },
    "id": "mHkUg8uPpd_C",
    "outputId": "818236ce-f5e2-4799-f742-61ccaf39fae0"
   },
   "outputs": [
    {
     "name": "stdout",
     "output_type": "stream",
     "text": [
      "X_multi shape: (812, 30, 7), y_multi shape: (812, 4)\n"
     ]
    }
   ],
   "source": [
    "from sklearn.preprocessing import MinMaxScaler\n",
    "# Define function to create sequences\n",
    "def create_sequences(df, window_size=30):\n",
    "    scaler = MinMaxScaler()\n",
    "    scaled_data = scaler.fit_transform(df)  # Scale DataFrame and keep it as np.array\n",
    "    X, y = [], []\n",
    "\n",
    "    for i in range(len(scaled_data) - window_size):\n",
    "        X.append(scaled_data[i:i+window_size, :-1])  # Include all columns except the last\n",
    "        y.append(scaled_data[i + window_size, -1])  # Target is the last column (returns)\n",
    "\n",
    "    return np.array(X), np.array(y)\n",
    "\n",
    "# Initialize lists to store sequences for multiple stocks\n",
    "X_list, y_list = [], []\n",
    "\n",
    "# Iterate through each ticker to calculate indicators and sequences\n",
    "for ticker, df in data.items():\n",
    "    # Calculate moving averages and returns\n",
    "    df['SMA_10'] = df['c'].rolling(window=10).mean()\n",
    "    df['SMA_50'] = df['c'].rolling(window=50).mean()\n",
    "    df['Returns'] = df['c'].pct_change()\n",
    "    df.dropna(inplace=True)  # Drop NaN values from rolling calculations\n",
    "\n",
    "    # Create sequences from the scaled DataFrame\n",
    "    X, y = create_sequences(df, window_size=30)\n",
    "    X_list.append(X)\n",
    "    y_list.append(y)\n",
    "\n",
    "# Concatenate all sequences for the multi-stock model\n",
    "X_multi = np.concatenate(X_list, axis=0)\n",
    "y_multi = np.concatenate(y_list, axis=0)\n",
    "\n",
    "# Adjust y_multi to have the correct shape\n",
    "num_stocks = len(tickers)  # Number of assets\n",
    "y_multi = np.repeat(y_multi, num_stocks).reshape(-1, num_stocks)\n",
    "\n",
    "print(f\"X_multi shape: {X_multi.shape}, y_multi shape: {y_multi.shape}\")\n",
    "# format --> X(total_samples, window_size, num_features); Y(total_samples, num_stocks)"
   ]
  },
  {
   "cell_type": "markdown",
   "metadata": {
    "id": "GoUDzD2aq5Jy"
   },
   "source": [
    "###make sequences of input to predict the next day"
   ]
  },
  {
   "cell_type": "markdown",
   "metadata": {
    "id": "hnaw2eDmsV9q"
   },
   "source": [
    "##BUILD LSTM MODEL"
   ]
  },
  {
   "cell_type": "code",
   "execution_count": 5,
   "metadata": {
    "colab": {
     "base_uri": "https://localhost:8080/",
     "height": 353
    },
    "id": "ogxwgkzMsbSi",
    "outputId": "f983b7b6-22c5-4560-f94d-417d525503ab"
   },
   "outputs": [
    {
     "name": "stderr",
     "output_type": "stream",
     "text": [
      "c:\\Users\\hamme\\OneDrive\\Documents\\GitHub\\CS-491-Algorithmic-Trading-Project\\.venv\\Lib\\site-packages\\keras\\src\\layers\\rnn\\rnn.py:204: UserWarning: Do not pass an `input_shape`/`input_dim` argument to a layer. When using Sequential models, prefer using an `Input(shape)` object as the first layer in the model instead.\n",
      "  super().__init__(**kwargs)\n"
     ]
    },
    {
     "data": {
      "text/html": [
       "<pre style=\"white-space:pre;overflow-x:auto;line-height:normal;font-family:Menlo,'DejaVu Sans Mono',consolas,'Courier New',monospace\"><span style=\"font-weight: bold\">Model: \"sequential\"</span>\n",
       "</pre>\n"
      ],
      "text/plain": [
       "\u001b[1mModel: \"sequential\"\u001b[0m\n"
      ]
     },
     "metadata": {},
     "output_type": "display_data"
    },
    {
     "data": {
      "text/html": [
       "<pre style=\"white-space:pre;overflow-x:auto;line-height:normal;font-family:Menlo,'DejaVu Sans Mono',consolas,'Courier New',monospace\">┏━━━━━━━━━━━━━━━━━━━━━━━━━━━━━━━━━┳━━━━━━━━━━━━━━━━━━━━━━━━┳━━━━━━━━━━━━━━━┓\n",
       "┃<span style=\"font-weight: bold\"> Layer (type)                    </span>┃<span style=\"font-weight: bold\"> Output Shape           </span>┃<span style=\"font-weight: bold\">       Param # </span>┃\n",
       "┡━━━━━━━━━━━━━━━━━━━━━━━━━━━━━━━━━╇━━━━━━━━━━━━━━━━━━━━━━━━╇━━━━━━━━━━━━━━━┩\n",
       "│ lstm (<span style=\"color: #0087ff; text-decoration-color: #0087ff\">LSTM</span>)                     │ (<span style=\"color: #00d7ff; text-decoration-color: #00d7ff\">None</span>, <span style=\"color: #00af00; text-decoration-color: #00af00\">30</span>, <span style=\"color: #00af00; text-decoration-color: #00af00\">50</span>)         │        <span style=\"color: #00af00; text-decoration-color: #00af00\">11,600</span> │\n",
       "├─────────────────────────────────┼────────────────────────┼───────────────┤\n",
       "│ dropout (<span style=\"color: #0087ff; text-decoration-color: #0087ff\">Dropout</span>)               │ (<span style=\"color: #00d7ff; text-decoration-color: #00d7ff\">None</span>, <span style=\"color: #00af00; text-decoration-color: #00af00\">30</span>, <span style=\"color: #00af00; text-decoration-color: #00af00\">50</span>)         │             <span style=\"color: #00af00; text-decoration-color: #00af00\">0</span> │\n",
       "├─────────────────────────────────┼────────────────────────┼───────────────┤\n",
       "│ lstm_1 (<span style=\"color: #0087ff; text-decoration-color: #0087ff\">LSTM</span>)                   │ (<span style=\"color: #00d7ff; text-decoration-color: #00d7ff\">None</span>, <span style=\"color: #00af00; text-decoration-color: #00af00\">50</span>)             │        <span style=\"color: #00af00; text-decoration-color: #00af00\">20,200</span> │\n",
       "├─────────────────────────────────┼────────────────────────┼───────────────┤\n",
       "│ dropout_1 (<span style=\"color: #0087ff; text-decoration-color: #0087ff\">Dropout</span>)             │ (<span style=\"color: #00d7ff; text-decoration-color: #00d7ff\">None</span>, <span style=\"color: #00af00; text-decoration-color: #00af00\">50</span>)             │             <span style=\"color: #00af00; text-decoration-color: #00af00\">0</span> │\n",
       "├─────────────────────────────────┼────────────────────────┼───────────────┤\n",
       "│ dense (<span style=\"color: #0087ff; text-decoration-color: #0087ff\">Dense</span>)                   │ (<span style=\"color: #00d7ff; text-decoration-color: #00d7ff\">None</span>, <span style=\"color: #00af00; text-decoration-color: #00af00\">4</span>)              │           <span style=\"color: #00af00; text-decoration-color: #00af00\">204</span> │\n",
       "└─────────────────────────────────┴────────────────────────┴───────────────┘\n",
       "</pre>\n"
      ],
      "text/plain": [
       "┏━━━━━━━━━━━━━━━━━━━━━━━━━━━━━━━━━┳━━━━━━━━━━━━━━━━━━━━━━━━┳━━━━━━━━━━━━━━━┓\n",
       "┃\u001b[1m \u001b[0m\u001b[1mLayer (type)                   \u001b[0m\u001b[1m \u001b[0m┃\u001b[1m \u001b[0m\u001b[1mOutput Shape          \u001b[0m\u001b[1m \u001b[0m┃\u001b[1m \u001b[0m\u001b[1m      Param #\u001b[0m\u001b[1m \u001b[0m┃\n",
       "┡━━━━━━━━━━━━━━━━━━━━━━━━━━━━━━━━━╇━━━━━━━━━━━━━━━━━━━━━━━━╇━━━━━━━━━━━━━━━┩\n",
       "│ lstm (\u001b[38;5;33mLSTM\u001b[0m)                     │ (\u001b[38;5;45mNone\u001b[0m, \u001b[38;5;34m30\u001b[0m, \u001b[38;5;34m50\u001b[0m)         │        \u001b[38;5;34m11,600\u001b[0m │\n",
       "├─────────────────────────────────┼────────────────────────┼───────────────┤\n",
       "│ dropout (\u001b[38;5;33mDropout\u001b[0m)               │ (\u001b[38;5;45mNone\u001b[0m, \u001b[38;5;34m30\u001b[0m, \u001b[38;5;34m50\u001b[0m)         │             \u001b[38;5;34m0\u001b[0m │\n",
       "├─────────────────────────────────┼────────────────────────┼───────────────┤\n",
       "│ lstm_1 (\u001b[38;5;33mLSTM\u001b[0m)                   │ (\u001b[38;5;45mNone\u001b[0m, \u001b[38;5;34m50\u001b[0m)             │        \u001b[38;5;34m20,200\u001b[0m │\n",
       "├─────────────────────────────────┼────────────────────────┼───────────────┤\n",
       "│ dropout_1 (\u001b[38;5;33mDropout\u001b[0m)             │ (\u001b[38;5;45mNone\u001b[0m, \u001b[38;5;34m50\u001b[0m)             │             \u001b[38;5;34m0\u001b[0m │\n",
       "├─────────────────────────────────┼────────────────────────┼───────────────┤\n",
       "│ dense (\u001b[38;5;33mDense\u001b[0m)                   │ (\u001b[38;5;45mNone\u001b[0m, \u001b[38;5;34m4\u001b[0m)              │           \u001b[38;5;34m204\u001b[0m │\n",
       "└─────────────────────────────────┴────────────────────────┴───────────────┘\n"
      ]
     },
     "metadata": {},
     "output_type": "display_data"
    },
    {
     "data": {
      "text/html": [
       "<pre style=\"white-space:pre;overflow-x:auto;line-height:normal;font-family:Menlo,'DejaVu Sans Mono',consolas,'Courier New',monospace\"><span style=\"font-weight: bold\"> Total params: </span><span style=\"color: #00af00; text-decoration-color: #00af00\">32,004</span> (125.02 KB)\n",
       "</pre>\n"
      ],
      "text/plain": [
       "\u001b[1m Total params: \u001b[0m\u001b[38;5;34m32,004\u001b[0m (125.02 KB)\n"
      ]
     },
     "metadata": {},
     "output_type": "display_data"
    },
    {
     "data": {
      "text/html": [
       "<pre style=\"white-space:pre;overflow-x:auto;line-height:normal;font-family:Menlo,'DejaVu Sans Mono',consolas,'Courier New',monospace\"><span style=\"font-weight: bold\"> Trainable params: </span><span style=\"color: #00af00; text-decoration-color: #00af00\">32,004</span> (125.02 KB)\n",
       "</pre>\n"
      ],
      "text/plain": [
       "\u001b[1m Trainable params: \u001b[0m\u001b[38;5;34m32,004\u001b[0m (125.02 KB)\n"
      ]
     },
     "metadata": {},
     "output_type": "display_data"
    },
    {
     "data": {
      "text/html": [
       "<pre style=\"white-space:pre;overflow-x:auto;line-height:normal;font-family:Menlo,'DejaVu Sans Mono',consolas,'Courier New',monospace\"><span style=\"font-weight: bold\"> Non-trainable params: </span><span style=\"color: #00af00; text-decoration-color: #00af00\">0</span> (0.00 B)\n",
       "</pre>\n"
      ],
      "text/plain": [
       "\u001b[1m Non-trainable params: \u001b[0m\u001b[38;5;34m0\u001b[0m (0.00 B)\n"
      ]
     },
     "metadata": {},
     "output_type": "display_data"
    }
   ],
   "source": [
    "import tensorflow as tf\n",
    "from tensorflow.keras.models import Sequential\n",
    "from tensorflow.keras.layers import LSTM, Dense, Dropout\n",
    "\n",
    "num_stocks = len(tickers) # number of assets in input\n",
    "\n",
    "model = Sequential([\n",
    "    LSTM(50, return_sequences=True, input_shape=(X.shape[1], X.shape[2])),\n",
    "    Dropout(0.2),\n",
    "    LSTM(50),\n",
    "    Dropout(0.2),\n",
    "    Dense(num_stocks, activation='sigmoid')  # Sigmoid for probability output\n",
    "])\n",
    "\n",
    "model.compile(optimizer='adam', loss='mean_squared_error')\n",
    "model.summary()"
   ]
  },
  {
   "cell_type": "markdown",
   "metadata": {
    "id": "JyfXlzzhtNR3"
   },
   "source": [
    "####TRAINING THE MODEL"
   ]
  },
  {
   "cell_type": "code",
   "execution_count": null,
   "metadata": {},
   "outputs": [],
   "source": []
  },
  {
   "cell_type": "code",
   "execution_count": 6,
   "metadata": {
    "colab": {
     "base_uri": "https://localhost:8080/"
    },
    "id": "-D8flz9ntWuG",
    "outputId": "e71c64fa-e943-4da5-9562-afc034180878"
   },
   "outputs": [
    {
     "name": "stdout",
     "output_type": "stream",
     "text": [
      "Epoch 1/5\n",
      "\u001b[1m21/21\u001b[0m \u001b[32m━━━━━━━━━━━━━━━━━━━━\u001b[0m\u001b[37m\u001b[0m \u001b[1m5s\u001b[0m 53ms/step - loss: 0.0172 - val_loss: 0.0459\n",
      "Epoch 2/5\n",
      "\u001b[1m21/21\u001b[0m \u001b[32m━━━━━━━━━━━━━━━━━━━━\u001b[0m\u001b[37m\u001b[0m \u001b[1m1s\u001b[0m 24ms/step - loss: 0.0171 - val_loss: 0.0504\n",
      "Epoch 3/5\n",
      "\u001b[1m21/21\u001b[0m \u001b[32m━━━━━━━━━━━━━━━━━━━━\u001b[0m\u001b[37m\u001b[0m \u001b[1m1s\u001b[0m 25ms/step - loss: 0.0178 - val_loss: 0.0435\n",
      "Epoch 4/5\n",
      "\u001b[1m21/21\u001b[0m \u001b[32m━━━━━━━━━━━━━━━━━━━━\u001b[0m\u001b[37m\u001b[0m \u001b[1m1s\u001b[0m 25ms/step - loss: 0.0155 - val_loss: 0.0458\n",
      "Epoch 5/5\n",
      "\u001b[1m21/21\u001b[0m \u001b[32m━━━━━━━━━━━━━━━━━━━━\u001b[0m\u001b[37m\u001b[0m \u001b[1m1s\u001b[0m 24ms/step - loss: 0.0157 - val_loss: 0.0424\n"
     ]
    }
   ],
   "source": [
    "history = model.fit(X_multi, y_multi, epochs=5, batch_size=32, validation_split=0.2)"
   ]
  },
  {
   "cell_type": "markdown",
   "metadata": {
    "id": "-Trke64vty39"
   },
   "source": [
    "####MAKE PREDICTIONS AND SIGNAL BUY OR SELL"
   ]
  },
  {
   "cell_type": "code",
   "execution_count": 10,
   "metadata": {
    "colab": {
     "base_uri": "https://localhost:8080/"
    },
    "id": "dsCnHI5Xt_yW",
    "outputId": "ac82330f-23d5-4e63-8efb-a5b9cd62c94b"
   },
   "outputs": [
    {
     "name": "stdout",
     "output_type": "stream",
     "text": [
      "\u001b[1m1/1\u001b[0m \u001b[32m━━━━━━━━━━━━━━━━━━━━\u001b[0m\u001b[37m\u001b[0m \u001b[1m0s\u001b[0m 189ms/step\n",
      "AAPL: Predicted Return: 52.12%, Signal: Buy\n",
      "AMZN: Predicted Return: 51.44%, Signal: Buy\n",
      "GOOGL: Predicted Return: 51.03%, Signal: Buy\n",
      "MSFT: Predicted Return: 51.80%, Signal: Buy\n"
     ]
    }
   ],
   "source": [
    "def generate_multi_stock_signals(data, model, threshold=0.5):\n",
    "    predictions = model.predict(data)\n",
    "    signals = [\n",
    "        'Buy' if pred > threshold else 'Sell'\n",
    "        for pred in predictions[0]\n",
    "    ]\n",
    "    return predictions[0], signals\n",
    "\n",
    "# Predict for the latest data\n",
    "latest_data = X_multi[-1].reshape(1, X_multi.shape[1], X_multi.shape[2])\n",
    "predicted_returns, signals = generate_multi_stock_signals(latest_data, model)\n",
    "\n",
    "for i, ticker in enumerate(tickers):\n",
    "    print(f\"{ticker}: Predicted Return: {predicted_returns[i]:.2%}, Signal: {signals[i]}\")"
   ]
  },
  {
   "cell_type": "code",
   "execution_count": 11,
   "metadata": {},
   "outputs": [],
   "source": [
    "model.save('my_checkpoint.keras')\n",
    "\n"
   ]
  },
  {
   "cell_type": "code",
   "execution_count": 12,
   "metadata": {
    "colab": {
     "base_uri": "https://localhost:8080/",
     "height": 431
    },
    "id": "zQ0sIOX1vSQG",
    "outputId": "901776f3-660a-4ae2-a2a7-6b8daac87a2d"
   },
   "outputs": [
    {
     "data": {
      "image/png": "[encoded data removed]",
      "text/plain": [
       "<Figure size 640x480 with 1 Axes>"
      ]
     },
     "metadata": {},
     "output_type": "display_data"
    }
   ],
   "source": [
    "import matplotlib.pyplot as plt\n",
    "\n",
    "# Plot training and validation loss\n",
    "plt.plot(history.history['loss'], label='Training Loss')\n",
    "plt.plot(history.history['val_loss'], label='Validation Loss')\n",
    "plt.legend()\n",
    "plt.show()"
   ]
  },
  {
   "cell_type": "markdown",
   "metadata": {
    "id": "LKptvMC-uy9D"
   },
   "source": []
  }
 ],
 "metadata": {
  "colab": {
   "provenance": []
  },
  "kernelspec": {
   "display_name": "project_kernel",
   "language": "python",
   "name": "project_kernel"
  },
  "language_info": {
   "codemirror_mode": {
    "name": "ipython",
    "version": 3
   },
   "file_extension": ".py",
   "mimetype": "text/x-python",
   "name": "python",
   "nbconvert_exporter": "python",
   "pygments_lexer": "ipython3",
   "version": "3.12.7"
  }
 },
 "nbformat": 4,
 "nbformat_minor": 0
}
